{
 "cells": [
  {
   "cell_type": "markdown",
   "metadata": {},
   "source": [
    "# Simple Hello World"
   ]
  },
  {
   "cell_type": "code",
   "execution_count": 30,
   "metadata": {},
   "outputs": [
    {
     "name": "stdout",
     "output_type": "stream",
     "text": [
      "vous allez acheter 10 stylo(s) et 5 cahier(s)\n"
     ]
    },
    {
     "data": {
      "text/plain": [
       "java.io.PrintStream@b54d3de"
      ]
     },
     "execution_count": 30,
     "metadata": {},
     "output_type": "execute_result"
    }
   ],
   "source": [
    "int quantite1 = 10, quantite2 = 5;\n",
    "System.out.printf(\"vous allez acheter %d stylo(s) et %d cahier(s)\\n\",quantite1, quantite2);"
   ]
  },
  {
   "cell_type": "code",
   "execution_count": 16,
   "metadata": {},
   "outputs": [
    {
     "name": "stdout",
     "output_type": "stream",
     "text": [
      "vous allez acheter 5 stylo(s) 2 cahier(s) "
     ]
    }
   ],
   "source": [
    "System.out.print(\"vous allez acheter \");\n",
    "if(quantite1>0)\n",
    "{\n",
    "    System.out.printf(\"%d stylo(s) \",quantite1);\n",
    "}\n",
    "if(quantite2>0)\n",
    "{\n",
    "    System.out.printf(\"%d cahier(s) \",quantite2);\n",
    "}"
   ]
  },
  {
   "cell_type": "code",
   "execution_count": 39,
   "metadata": {},
   "outputs": [
    {
     "name": "stdout",
     "output_type": "stream",
     "text": [
      "vous allez acheter 10 stylo(s) 5 cahiers) 1 gomme offerte"
     ]
    }
   ],
   "source": [
    "System.out.print(\"vous allez acheter \");\n",
    "if(quantite1>0)\n",
    "{\n",
    "    System.out.printf(\"%d stylo(s) \",quantite1);\n",
    "}\n",
    "if(quantite2==1)\n",
    "{\n",
    "    System.out.print(\"1 cahier \");\n",
    "}\n",
    "else\n",
    "{\n",
    "    System.out.printf(\"%d cahiers) \",quantite2);\n",
    "}\n",
    "if(quantite1>=10&&quantite2>=5)\n",
    "{\n",
    "    System.out.print(\"1 gomme offerte\");\n",
    "}\n",
    "//if({!quantite1<0})\n",
    "{\n",
    "    //System.out.println(\"La quantite n'est pas négative\");\n",
    "}"
   ]
  },
  {
   "cell_type": "code",
   "execution_count": null,
   "metadata": {},
   "outputs": [
    {
     "name": "stdout",
     "output_type": "stream",
     "text": [
      "9 se divise par 2\n",
      "4 se divise par 2\n",
      "2 se divise par 2\n",
      "1 se divise par 2\n"
     ]
    }
   ],
   "source": [
    "int nombre = 9;\n",
    "while(nombre>0)\n",
    "{\n",
    "    System.out.printf(\"%d se divise par 2\\n\",nombre);\n",
    "    nombre = nombre/2; //division entière\n",
    "}"
   ]
  },
  {
   "cell_type": "code",
   "execution_count": 50,
   "metadata": {},
   "outputs": [
    {
     "name": "stdout",
     "output_type": "stream",
     "text": [
      "Répondre 1:'oui' ou 2:'non'\n"
     ]
    },
    {
     "name": "stdout",
     "output_type": "stream",
     "text": [
      "Répondre 1:'oui' ou 2:'non'\n"
     ]
    }
   ],
   "source": [
    "import java.util.Scanner;\n",
    "Scanner clavier=new Scanner(System.in);\n",
    "int réponse;\n",
    "\n",
    "do\n",
    "{\n",
    "    System.out.println(\"Répondre 1:'oui' ou 2:'non'\");\n",
    "    réponse = clavier.nextInt();\n",
    "}\n",
    "while(réponse != 1 && réponse != 2);"
   ]
  },
  {
   "cell_type": "code",
   "execution_count": 62,
   "metadata": {},
   "outputs": [
    {
     "name": "stdout",
     "output_type": "stream",
     "text": [
      "- 0\n",
      "- 1\n",
      "- 2\n",
      "- 3\n",
      "- 4\n",
      "- 5\n",
      "- 6\n",
      "- 7\n",
      "- 8\n",
      "- 9\n"
     ]
    }
   ],
   "source": [
    "int limite = 10;\n",
    "for(int i=0; i<limite; i++)\n",
    "{\n",
    "    System.out.printf(\"- %d\\n\", i);\n",
    "}"
   ]
  }
 ],
 "metadata": {
  "kernelspec": {
   "display_name": "Java (rjk 2.2.0)",
   "language": "java",
   "name": "rapaio-jupyter-kernel"
  },
  "language_info": {
   "codemirror_mode": "java",
   "file_extension": ".jshell",
   "mimetype": "text/x-java-source",
   "name": "java",
   "nbconvert_exporter": "script",
   "pygments_lexer": "java",
   "version": "21.0.5+11-LTS"
  }
 },
 "nbformat": 4,
 "nbformat_minor": 2
}
