{
 "cells": [
  {
   "cell_type": "markdown",
   "metadata": {},
   "source": [
    "## Atelier 2"
   ]
  },
  {
   "cell_type": "markdown",
   "metadata": {},
   "source": [
    "Étape 1 - Validation d'une saisie\n"
   ]
  },
  {
   "cell_type": "code",
   "execution_count": 9,
   "metadata": {},
   "outputs": [
    {
     "name": "stdout",
     "output_type": "stream",
     "text": [
      "Choisissez un chiffre entre 2 et 15\n"
     ]
    }
   ],
   "source": [
    "import java.util.Scanner;\n",
    "Scanner clavier=new Scanner(System.in);\n",
    "int réponse;\n",
    "\n",
    "do\n",
    "{\n",
    "    System.out.println(\"Choisissez un chiffre entre 2 et 15\");\n",
    "    réponse = clavier.nextInt();\n",
    "    if(réponse <2 || réponse >15)\n",
    "System.out.println(\"Mauvaise donnée, veuillez réessayer !\");\n",
    "}\n",
    "\n",
    "while(réponse <2 || réponse >15);"
   ]
  },
  {
   "cell_type": "markdown",
   "metadata": {},
   "source": [
    "Étape 2 - Dessin de ligne(s)"
   ]
  },
  {
   "cell_type": "code",
   "execution_count": 29,
   "metadata": {},
   "outputs": [
    {
     "name": "stdout",
     "output_type": "stream",
     "text": [
      " *  *  *  *  *  *  *  *  *  *  * \n",
      " *  *  *  *  *  *  *  *  *  *  * \n",
      " *  *  *  *  *  *  *  *  *  *  * \n",
      " *  *  *  *  *  *  *  *  *  *  * \n",
      " *  *  *  *  *  *  *  *  *  *  * \n",
      " *  *  *  *  *  *  *  *  *  *  * \n",
      " *  *  *  *  *  *  *  *  *  *  * \n",
      " *  *  *  *  *  *  *  *  *  *  * \n",
      " *  *  *  *  *  *  *  *  *  *  * \n",
      " *  *  *  *  *  *  *  *  *  *  * \n",
      " *  *  *  *  *  *  *  *  *  *  * \n"
     ]
    }
   ],
   "source": [
    "for(int i=0; i<réponse; i++)\n",
    "{\n",
    "    for(int j=0; j<réponse; j++)\n",
    "{\n",
    "    System.out.print(\" * \");\n",
    "}\n",
    "System.out.printf(\"\\n\");\n",
    "}"
   ]
  },
  {
   "cell_type": "markdown",
   "metadata": {},
   "source": [
    "Version carré creux/plein"
   ]
  },
  {
   "cell_type": "code",
   "execution_count": 76,
   "metadata": {},
   "outputs": [
    {
     "name": "stdout",
     "output_type": "stream",
     "text": [
      "Choisissez 1 : creux ou 2 : plein\n"
     ]
    },
    {
     "name": "stdout",
     "output_type": "stream",
     "text": [
      " *  *  *  *  *  *  *  *  *  *  * \n",
      " *                             * \n",
      " *                             * \n",
      " *                             * \n",
      " *                             * \n",
      " *                             * \n",
      " *                             * \n",
      " *                             * \n",
      " *                             * \n",
      " *                             * \n",
      " *  *  *  *  *  *  *  *  *  *  * "
     ]
    }
   ],
   "source": [
    "Scanner clavier=new Scanner(System.in);\n",
    "int choix;\n",
    "{\n",
    "    System.out.println(\"Choisissez 1 : creux ou 2 : plein\");\n",
    "    choix = clavier.nextInt();\n",
    "    if (choix==1)\n",
    "    {\n",
    "        for(int j=0; j<réponse; j++)\n",
    "        {\n",
    "            System.out.print(\" * \");\n",
    "        }\n",
    "            System.out.println();\n",
    "        for(int i=0; i<réponse-2; i++)\n",
    "        {\n",
    "            System.out.print(\" * \");\n",
    "            for(int j=0; j<réponse-2; j++)\n",
    "            {\n",
    "                System.out.print(\"   \");\n",
    "            }\n",
    "            System.out.println(\" * \");\n",
    "        }\n",
    "        for(int j=0; j<réponse; j++)\n",
    "        {\n",
    "            System.out.print(\" * \");\n",
    "        }\n",
    "    }\n",
    "    if (choix==2)\n",
    "    {\n",
    "        for(int i=0; i<réponse; i++)\n",
    "        {\n",
    "            for(int j=0; j<réponse; j++)\n",
    "            {\n",
    "            System.out.print(\" * \");\n",
    "            }\n",
    "            System.out.printf(\"\\n\");\n",
    "        }\n",
    "     }\n",
    "    }"
   ]
  },
  {
   "cell_type": "markdown",
   "metadata": {},
   "source": [
    "Étape 3 - Dessin de triangle(s)"
   ]
  },
  {
   "cell_type": "code",
   "execution_count": 83,
   "metadata": {},
   "outputs": [
    {
     "name": "stdout",
     "output_type": "stream",
     "text": [
      "           *\n",
      "          * *\n",
      "         * * *\n",
      "        * * * *\n",
      "       * * * * *\n",
      "      * * * * * *\n",
      "     * * * * * * *\n",
      "    * * * * * * * *\n",
      "   * * * * * * * * *\n",
      "  * * * * * * * * * *\n",
      " * * * * * * * * * * *\n"
     ]
    }
   ],
   "source": [
    "for (int i=1; i<=réponse; i++)\n",
    "{\n",
    "    for (int j=1; j<=réponse-i; j++)\n",
    "    {\n",
    "        System.out.print(\" \");\n",
    "    }\n",
    "    for (int j=1; j<=i; j++)\n",
    "    {\n",
    "        System.out.print(\" *\");\n",
    "    }\n",
    "    System.out.println();\n",
    "}"
   ]
  }
 ],
 "metadata": {
  "kernelspec": {
   "display_name": "Java (rjk 2.2.0)",
   "language": "java",
   "name": "rapaio-jupyter-kernel"
  },
  "language_info": {
   "codemirror_mode": "java",
   "file_extension": ".jshell",
   "mimetype": "text/x-java-source",
   "name": "java",
   "nbconvert_exporter": "script",
   "pygments_lexer": "java",
   "version": "21.0.5+11-LTS"
  }
 },
 "nbformat": 4,
 "nbformat_minor": 2
}
